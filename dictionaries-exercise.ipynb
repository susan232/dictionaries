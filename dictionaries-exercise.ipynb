{
 "cells": [
  {
   "cell_type": "code",
   "execution_count": 1,
   "id": "04c5926c-5c4e-4faf-bf26-376cc9e1d4dc",
   "metadata": {},
   "outputs": [
    {
     "name": "stdout",
     "output_type": "stream",
     "text": [
      "{1: 1, 2: 8, 3: 27, 4: 64, 5: 125, 6: 216, 7: 343, 8: 512, 9: 729, 10: 1000}\n"
     ]
    }
   ],
   "source": [
    "#dictionary comprehension\n",
    "cubed_numbers = {y: y**3 for y in range(1,11)}\n",
    "print(cubed_numbers)"
   ]
  },
  {
   "cell_type": "code",
   "execution_count": 2,
   "id": "e9b16441-eae0-4d57-81db-d950d06fbd9e",
   "metadata": {},
   "outputs": [
    {
     "name": "stdout",
     "output_type": "stream",
     "text": [
      "{'book1': 'comedy', 'book2': 'tragedy', 'book3': 'Romance', 'book4': 'fiction'}\n"
     ]
    }
   ],
   "source": [
    "#merging dictionaries\n",
    "dict1 = {\"book1\": \"comedy\", \"book2\": \"tragedy\"}\n",
    "dict2 = {\"book3\": \"Romance\", \"book4\": \"fiction\"}\n",
    "merged_dict = dict1 | dict2\n",
    "print(merged_dict)"
   ]
  },
  {
   "cell_type": "code",
   "execution_count": 3,
   "id": "8a0912c9-5be4-4a93-82e8-25fdf516c4f7",
   "metadata": {},
   "outputs": [
    {
     "name": "stdout",
     "output_type": "stream",
     "text": [
      "defaultdict(<class 'int'>, {'h': 1, 'e': 1, 'l': 3, 'o': 2, ' ': 1, 'w': 1, 'r': 1, 'd': 1})\n"
     ]
    }
   ],
   "source": [
    "#using defaultdict\n",
    "from collections import defaultdict\n",
    "\n",
    "def count_char_frequency(text):\n",
    "  char_counts = defaultdict(int)\n",
    "  for char in text:\n",
    "    char_counts[char] += 1\n",
    "  return char_counts\n",
    "\n",
    "# Example usage:\n",
    "input_string = \"hello world\"\n",
    "frequency = count_char_frequency(input_string)\n",
    "print(frequency)"
   ]
  },
  {
   "cell_type": "code",
   "execution_count": 4,
   "id": "c68dd4fa-45d4-49a9-9575-bce84ddc0aa6",
   "metadata": {},
   "outputs": [
    {
     "name": "stdout",
     "output_type": "stream",
     "text": [
      "['c', 'b', 'a']\n"
     ]
    }
   ],
   "source": [
    "#sorting dictionary\n",
    "my_dic = {\"a\": \"2\", \"b\": \"7\", \"c\": \"8\"}\n",
    "sorted_dic = sorted(my_dic, reverse=True)\n",
    "print(sorted_dic)"
   ]
  },
  {
   "cell_type": "code",
   "execution_count": 5,
   "id": "45d94b39-4ae5-4089-aade-4a5828f18d68",
   "metadata": {},
   "outputs": [
    {
     "name": "stdout",
     "output_type": "stream",
     "text": [
      "z\n"
     ]
    }
   ],
   "source": [
    "#Finding key with maximum value in a dictionary\n",
    "my_dic = {\"x\": \"8\", \"y\": \"7\", \"z\": \"9\"}\n",
    "value = max(my_dic,key =my_dic.get)\n",
    "print(value)"
   ]
  },
  {
   "cell_type": "code",
   "execution_count": 6,
   "id": "12343bd2-16de-489c-a91d-391ab5c73c12",
   "metadata": {},
   "outputs": [
    {
     "name": "stdout",
     "output_type": "stream",
     "text": [
      "{'a': '22', 'b': '99', 'c': '34', 'd': '67'}\n",
      "{'a': '22', 'b': '99', 'c': 77, 'd': '67'}\n"
     ]
    }
   ],
   "source": [
    "#copying a dictionary and modify the copy\n",
    "original_dict = {\"a\": \"22\", \"b\": \"99\", \"c\": \"34\", \"d\": \"67\"}\n",
    "copied_dict = original_dict.copy()\n",
    "copied_dict['c'] = 77\n",
    "print(original_dict)\n",
    "print(copied_dict)"
   ]
  },
  {
   "cell_type": "code",
   "execution_count": 7,
   "id": "38d64d57-2a1d-4828-a394-7f39f4a3962a",
   "metadata": {},
   "outputs": [
    {
     "name": "stdout",
     "output_type": "stream",
     "text": [
      "{'candidate 1': {'name': 'Susan', 'Age': '22', 'level': '300 level', 'Religion': 'christian'}, 'candidate 2': {'name': 'Abdulraheem', 'Age': '25', 'level': '100 level', 'Religion': 'Muslim'}}\n"
     ]
    }
   ],
   "source": [
    "#copying a nested dictionary\n",
    "original_nested_dict = {\"candidate 1\": {\"name\": \"Susan\", \"Age\": \"22\", \"level\": \"300 level\", \"Religion\": \"christian\"}, \"candidate 2\": {\"name\": \"Abdulraheem\", \"Age\": \"25\", \"level\": \"100 level\", \"Religion\": \"Muslim\"}}\n",
    "copied_nested_dict = original_nested_dict.copy()\n",
    "print(copied_nested_dict)"
   ]
  },
  {
   "cell_type": "code",
   "execution_count": null,
   "id": "e473a3f0-68ff-4fd5-b2a4-eab81e434bdb",
   "metadata": {},
   "outputs": [],
   "source": []
  }
 ],
 "metadata": {
  "kernelspec": {
   "display_name": "Python 3 (ipykernel)",
   "language": "python",
   "name": "python3"
  },
  "language_info": {
   "codemirror_mode": {
    "name": "ipython",
    "version": 3
   },
   "file_extension": ".py",
   "mimetype": "text/x-python",
   "name": "python",
   "nbconvert_exporter": "python",
   "pygments_lexer": "ipython3",
   "version": "3.12.6"
  }
 },
 "nbformat": 4,
 "nbformat_minor": 5
}
